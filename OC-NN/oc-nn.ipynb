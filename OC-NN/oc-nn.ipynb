{
 "cells": [
  {
   "cell_type": "markdown",
   "metadata": {},
   "source": [
    "# Importar bibliotecas\n",
    "En este bloque se importan las bibliotecas necesarias:\n",
    "- `numpy` para manejar datos numéricos.\n",
    "- `tensorflow` para construir y entrenar el autoencoder.\n",
    "- `matplotlib` para visualizar los resultados.\n",
    "- `mnist` de `tensorflow.keras.datasets` para cargar el dataset de dígitos manuscritos.\n"
   ]
  },
  {
   "cell_type": "code",
   "execution_count": 10,
   "metadata": {},
   "outputs": [
    {
     "ename": "AttributeError",
     "evalue": "'OutStream' object has no attribute 'reconfigure'",
     "output_type": "error",
     "traceback": [
      "\u001b[1;31m---------------------------------------------------------------------------\u001b[0m",
      "\u001b[1;31mAttributeError\u001b[0m                            Traceback (most recent call last)",
      "Cell \u001b[1;32mIn[10], line 12\u001b[0m\n\u001b[0;32m     10\u001b[0m \u001b[38;5;28;01mimport\u001b[39;00m \u001b[38;5;21;01mmatplotlib\u001b[39;00m\u001b[38;5;21;01m.\u001b[39;00m\u001b[38;5;21;01mpyplot\u001b[39;00m \u001b[38;5;28;01mas\u001b[39;00m \u001b[38;5;21;01mplt\u001b[39;00m\n\u001b[0;32m     11\u001b[0m \u001b[38;5;28;01mimport\u001b[39;00m \u001b[38;5;21;01msys\u001b[39;00m\n\u001b[1;32m---> 12\u001b[0m \u001b[43msys\u001b[49m\u001b[38;5;241;43m.\u001b[39;49m\u001b[43mstdout\u001b[49m\u001b[38;5;241;43m.\u001b[39;49m\u001b[43mreconfigure\u001b[49m(encoding\u001b[38;5;241m=\u001b[39m\u001b[38;5;124m'\u001b[39m\u001b[38;5;124mutf-8\u001b[39m\u001b[38;5;124m'\u001b[39m)\n\u001b[0;32m     13\u001b[0m sys\u001b[38;5;241m.\u001b[39mstderr\u001b[38;5;241m.\u001b[39mreconfigure(encoding\u001b[38;5;241m=\u001b[39m\u001b[38;5;124m'\u001b[39m\u001b[38;5;124mutf-8\u001b[39m\u001b[38;5;124m'\u001b[39m)\n",
      "\u001b[1;31mAttributeError\u001b[0m: 'OutStream' object has no attribute 'reconfigure'"
     ]
    }
   ],
   "source": [
    "import numpy as np\n",
    "import tensorflow as tf\n",
    "from tensorflow.keras.layers import Input, Dropout, Dense\n",
    "from tensorflow.keras.models import Model\n",
    "from tensorflow.keras.optimizers import Adam\n",
    "from tensorflow.keras.datasets import mnist\n",
    "from tensorflow.keras.models import Sequential\n",
    "from tensorflow.keras.layers import Dense\n",
    "from tensorflow.keras.callbacks import EarlyStopping\n",
    "import matplotlib.pyplot as plt\n",
    "import sys\n",
    "sys.stdout.reconfigure(encoding='utf-8')\n",
    "sys.stderr.reconfigure(encoding='utf-8')"
   ]
  },
  {
   "cell_type": "markdown",
   "metadata": {},
   "source": [
    "# Paso 1: Cargar y preparar los datos\n",
    "\n",
    "En este primer paso, vamos a cargar el conjunto de datos MNIST, que contiene imágenes de dígitos manuscritos. Luego, normalizaremos las imágenes para que sus valores estén entre 0 y 1. Finalmente, separaremos las imágenes en dos conjuntos:\n",
    "1. **Imágenes normales**: seleccionaremos solo las imágenes que corresponden al dígito 0 para entrenar nuestro modelo de autoencoder.\n",
    "2. **Imágenes anómalas**: seleccionaremos las imágenes que no corresponden al dígito 0 para usar como datos de prueba.\n",
    "\n",
    "Esto nos permitirá entrenar el autoencoder con datos \"normales\" (dígitos 0) y luego probar su capacidad para detectar anomalías (otros dígitos).\n",
    "\n",
    "\n",
    "\n"
   ]
  },
  {
   "cell_type": "code",
   "execution_count": 11,
   "metadata": {},
   "outputs": [],
   "source": [
    "# Cargar MNIST\n",
    "(x_train, y_train), (x_test, y_test) = mnist.load_data()\n",
    "x_train = x_train.astype('float32') / 255.0\n",
    "x_test = x_test.astype('float32') / 255.0\n",
    "\n",
    "# Remodelar las imágenes para que sean vectores de 784 elementos (28x28)\n",
    "x_train = x_train.reshape((x_train.shape[0], 28 * 28))\n",
    "x_test = x_test.reshape((x_test.shape[0], 28 * 28))\n",
    "\n",
    "# Solo seleccionar imágenes de dígitos 0 para entrenar el autoencoder (imágenes normales)\n",
    "x_train_normal = x_train[y_train == 0]\n",
    "y_train_normal = y_train[y_train == 0]\n",
    "\n",
    "# Solo seleccionar imágenes de dígitos diferentes a 0 para probar el modelo (anómalas)\n",
    "x_test_anomalous = x_test[y_test != 0]\n",
    "y_test_anomalous = y_test[y_test != 0]"
   ]
  },
  {
   "cell_type": "markdown",
   "metadata": {},
   "source": [
    "# Paso 2: Definir y entrenar el Autoencoder\n",
    "\n",
    "El autoencoder es un tipo de red neuronal que se entrena para reconstruir sus entradas. Su objetivo es aprender una representación comprimida de los datos en el espacio latente. En este paso, definimos la arquitectura del autoencoder con varias capas densas y entrenamos el modelo usando solo las imágenes normales (dígitos 0).\n",
    "\n",
    "1. Definimos un **encoder** que reduce la dimensión de las imágenes de entrada.\n",
    "2. Definimos un **decoder** que reconstruye las imágenes a partir de las representaciones latentes.\n",
    "3. Entrenamos el modelo con las imágenes de dígitos 0.\n",
    "\n",
    "Este autoencoder nos ayudará a aprender las características de las imágenes normales y nos permitirá detectar desviaciones o anomalías al comparar las reconstrucciones con las imágenes originales."
   ]
  },
  {
   "cell_type": "code",
   "execution_count": 26,
   "metadata": {},
   "outputs": [
    {
     "name": "stdout",
     "output_type": "stream",
     "text": [
      "Epoch 1/20\n",
      "\u001b[1m93/93\u001b[0m \u001b[32m━━━━━━━━━━━━━━━━━━━━\u001b[0m\u001b[37m\u001b[0m \u001b[1m4s\u001b[0m 9ms/step - loss: 0.4539\n",
      "Epoch 2/20\n",
      "\u001b[1m93/93\u001b[0m \u001b[32m━━━━━━━━━━━━━━━━━━━━\u001b[0m\u001b[37m\u001b[0m \u001b[1m1s\u001b[0m 9ms/step - loss: 0.2278\n",
      "Epoch 3/20\n",
      "\u001b[1m93/93\u001b[0m \u001b[32m━━━━━━━━━━━━━━━━━━━━\u001b[0m\u001b[37m\u001b[0m \u001b[1m1s\u001b[0m 11ms/step - loss: 0.2030\n",
      "Epoch 4/20\n",
      "\u001b[1m93/93\u001b[0m \u001b[32m━━━━━━━━━━━━━━━━━━━━\u001b[0m\u001b[37m\u001b[0m \u001b[1m1s\u001b[0m 9ms/step - loss: 0.1754\n",
      "Epoch 5/20\n",
      "\u001b[1m93/93\u001b[0m \u001b[32m━━━━━━━━━━━━━━━━━━━━\u001b[0m\u001b[37m\u001b[0m \u001b[1m1s\u001b[0m 9ms/step - loss: 0.1609\n",
      "Epoch 6/20\n",
      "\u001b[1m93/93\u001b[0m \u001b[32m━━━━━━━━━━━━━━━━━━━━\u001b[0m\u001b[37m\u001b[0m \u001b[1m1s\u001b[0m 9ms/step - loss: 0.1546\n",
      "Epoch 7/20\n",
      "\u001b[1m93/93\u001b[0m \u001b[32m━━━━━━━━━━━━━━━━━━━━\u001b[0m\u001b[37m\u001b[0m \u001b[1m1s\u001b[0m 9ms/step - loss: 0.1530\n",
      "Epoch 8/20\n",
      "\u001b[1m93/93\u001b[0m \u001b[32m━━━━━━━━━━━━━━━━━━━━\u001b[0m\u001b[37m\u001b[0m \u001b[1m1s\u001b[0m 10ms/step - loss: 0.1494\n",
      "Epoch 9/20\n",
      "\u001b[1m93/93\u001b[0m \u001b[32m━━━━━━━━━━━━━━━━━━━━\u001b[0m\u001b[37m\u001b[0m \u001b[1m1s\u001b[0m 9ms/step - loss: 0.1496\n",
      "Epoch 10/20\n",
      "\u001b[1m93/93\u001b[0m \u001b[32m━━━━━━━━━━━━━━━━━━━━\u001b[0m\u001b[37m\u001b[0m \u001b[1m1s\u001b[0m 9ms/step - loss: 0.1478\n",
      "Epoch 11/20\n",
      "\u001b[1m93/93\u001b[0m \u001b[32m━━━━━━━━━━━━━━━━━━━━\u001b[0m\u001b[37m\u001b[0m \u001b[1m1s\u001b[0m 9ms/step - loss: 0.1462\n",
      "Epoch 12/20\n",
      "\u001b[1m93/93\u001b[0m \u001b[32m━━━━━━━━━━━━━━━━━━━━\u001b[0m\u001b[37m\u001b[0m \u001b[1m1s\u001b[0m 8ms/step - loss: 0.1461\n",
      "Epoch 13/20\n",
      "\u001b[1m93/93\u001b[0m \u001b[32m━━━━━━━━━━━━━━━━━━━━\u001b[0m\u001b[37m\u001b[0m \u001b[1m1s\u001b[0m 10ms/step - loss: 0.1440\n",
      "Epoch 14/20\n",
      "\u001b[1m93/93\u001b[0m \u001b[32m━━━━━━━━━━━━━━━━━━━━\u001b[0m\u001b[37m\u001b[0m \u001b[1m1s\u001b[0m 9ms/step - loss: 0.1432\n",
      "Epoch 15/20\n",
      "\u001b[1m93/93\u001b[0m \u001b[32m━━━━━━━━━━━━━━━━━━━━\u001b[0m\u001b[37m\u001b[0m \u001b[1m1s\u001b[0m 10ms/step - loss: 0.1408\n",
      "Epoch 16/20\n",
      "\u001b[1m93/93\u001b[0m \u001b[32m━━━━━━━━━━━━━━━━━━━━\u001b[0m\u001b[37m\u001b[0m \u001b[1m1s\u001b[0m 9ms/step - loss: 0.1384\n",
      "Epoch 17/20\n",
      "\u001b[1m93/93\u001b[0m \u001b[32m━━━━━━━━━━━━━━━━━━━━\u001b[0m\u001b[37m\u001b[0m \u001b[1m1s\u001b[0m 11ms/step - loss: 0.1372\n",
      "Epoch 18/20\n",
      "\u001b[1m93/93\u001b[0m \u001b[32m━━━━━━━━━━━━━━━━━━━━\u001b[0m\u001b[37m\u001b[0m \u001b[1m1s\u001b[0m 9ms/step - loss: 0.1361\n",
      "Epoch 19/20\n",
      "\u001b[1m93/93\u001b[0m \u001b[32m━━━━━━━━━━━━━━━━━━━━\u001b[0m\u001b[37m\u001b[0m \u001b[1m1s\u001b[0m 8ms/step - loss: 0.1351\n",
      "Epoch 20/20\n",
      "\u001b[1m93/93\u001b[0m \u001b[32m━━━━━━━━━━━━━━━━━━━━\u001b[0m\u001b[37m\u001b[0m \u001b[1m1s\u001b[0m 8ms/step - loss: 0.1345\n"
     ]
    },
    {
     "data": {
      "text/html": [
       "<pre style=\"white-space:pre;overflow-x:auto;line-height:normal;font-family:Menlo,'DejaVu Sans Mono',consolas,'Courier New',monospace\"><span style=\"font-weight: bold\">Model: \"functional_23\"</span>\n",
       "</pre>\n"
      ],
      "text/plain": [
       "\u001b[1mModel: \"functional_23\"\u001b[0m\n"
      ]
     },
     "metadata": {},
     "output_type": "display_data"
    },
    {
     "data": {
      "text/html": [
       "<pre style=\"white-space:pre;overflow-x:auto;line-height:normal;font-family:Menlo,'DejaVu Sans Mono',consolas,'Courier New',monospace\">┏━━━━━━━━━━━━━━━━━━━━━━━━━━━━━━━━━┳━━━━━━━━━━━━━━━━━━━━━━━━┳━━━━━━━━━━━━━━━┓\n",
       "┃<span style=\"font-weight: bold\"> Layer (type)                    </span>┃<span style=\"font-weight: bold\"> Output Shape           </span>┃<span style=\"font-weight: bold\">       Param # </span>┃\n",
       "┡━━━━━━━━━━━━━━━━━━━━━━━━━━━━━━━━━╇━━━━━━━━━━━━━━━━━━━━━━━━╇━━━━━━━━━━━━━━━┩\n",
       "│ input_layer_4 (<span style=\"color: #0087ff; text-decoration-color: #0087ff\">InputLayer</span>)      │ (<span style=\"color: #00d7ff; text-decoration-color: #00d7ff\">None</span>, <span style=\"color: #00af00; text-decoration-color: #00af00\">784</span>)            │             <span style=\"color: #00af00; text-decoration-color: #00af00\">0</span> │\n",
       "├─────────────────────────────────┼────────────────────────┼───────────────┤\n",
       "│ dense_24 (<span style=\"color: #0087ff; text-decoration-color: #0087ff\">Dense</span>)                │ (<span style=\"color: #00d7ff; text-decoration-color: #00d7ff\">None</span>, <span style=\"color: #00af00; text-decoration-color: #00af00\">128</span>)            │       <span style=\"color: #00af00; text-decoration-color: #00af00\">100,480</span> │\n",
       "├─────────────────────────────────┼────────────────────────┼───────────────┤\n",
       "│ dense_25 (<span style=\"color: #0087ff; text-decoration-color: #0087ff\">Dense</span>)                │ (<span style=\"color: #00d7ff; text-decoration-color: #00d7ff\">None</span>, <span style=\"color: #00af00; text-decoration-color: #00af00\">64</span>)             │         <span style=\"color: #00af00; text-decoration-color: #00af00\">8,256</span> │\n",
       "├─────────────────────────────────┼────────────────────────┼───────────────┤\n",
       "│ dense_26 (<span style=\"color: #0087ff; text-decoration-color: #0087ff\">Dense</span>)                │ (<span style=\"color: #00d7ff; text-decoration-color: #00d7ff\">None</span>, <span style=\"color: #00af00; text-decoration-color: #00af00\">32</span>)             │         <span style=\"color: #00af00; text-decoration-color: #00af00\">2,080</span> │\n",
       "├─────────────────────────────────┼────────────────────────┼───────────────┤\n",
       "│ encoded_layer (<span style=\"color: #0087ff; text-decoration-color: #0087ff\">Dense</span>)           │ (<span style=\"color: #00d7ff; text-decoration-color: #00d7ff\">None</span>, <span style=\"color: #00af00; text-decoration-color: #00af00\">16</span>)             │           <span style=\"color: #00af00; text-decoration-color: #00af00\">528</span> │\n",
       "├─────────────────────────────────┼────────────────────────┼───────────────┤\n",
       "│ dense_27 (<span style=\"color: #0087ff; text-decoration-color: #0087ff\">Dense</span>)                │ (<span style=\"color: #00d7ff; text-decoration-color: #00d7ff\">None</span>, <span style=\"color: #00af00; text-decoration-color: #00af00\">16</span>)             │           <span style=\"color: #00af00; text-decoration-color: #00af00\">272</span> │\n",
       "├─────────────────────────────────┼────────────────────────┼───────────────┤\n",
       "│ dense_28 (<span style=\"color: #0087ff; text-decoration-color: #0087ff\">Dense</span>)                │ (<span style=\"color: #00d7ff; text-decoration-color: #00d7ff\">None</span>, <span style=\"color: #00af00; text-decoration-color: #00af00\">32</span>)             │           <span style=\"color: #00af00; text-decoration-color: #00af00\">544</span> │\n",
       "├─────────────────────────────────┼────────────────────────┼───────────────┤\n",
       "│ dense_29 (<span style=\"color: #0087ff; text-decoration-color: #0087ff\">Dense</span>)                │ (<span style=\"color: #00d7ff; text-decoration-color: #00d7ff\">None</span>, <span style=\"color: #00af00; text-decoration-color: #00af00\">64</span>)             │         <span style=\"color: #00af00; text-decoration-color: #00af00\">2,112</span> │\n",
       "├─────────────────────────────────┼────────────────────────┼───────────────┤\n",
       "│ dense_30 (<span style=\"color: #0087ff; text-decoration-color: #0087ff\">Dense</span>)                │ (<span style=\"color: #00d7ff; text-decoration-color: #00d7ff\">None</span>, <span style=\"color: #00af00; text-decoration-color: #00af00\">128</span>)            │         <span style=\"color: #00af00; text-decoration-color: #00af00\">8,320</span> │\n",
       "├─────────────────────────────────┼────────────────────────┼───────────────┤\n",
       "│ dense_31 (<span style=\"color: #0087ff; text-decoration-color: #0087ff\">Dense</span>)                │ (<span style=\"color: #00d7ff; text-decoration-color: #00d7ff\">None</span>, <span style=\"color: #00af00; text-decoration-color: #00af00\">784</span>)            │       <span style=\"color: #00af00; text-decoration-color: #00af00\">101,136</span> │\n",
       "└─────────────────────────────────┴────────────────────────┴───────────────┘\n",
       "</pre>\n"
      ],
      "text/plain": [
       "┏━━━━━━━━━━━━━━━━━━━━━━━━━━━━━━━━━┳━━━━━━━━━━━━━━━━━━━━━━━━┳━━━━━━━━━━━━━━━┓\n",
       "┃\u001b[1m \u001b[0m\u001b[1mLayer (type)                   \u001b[0m\u001b[1m \u001b[0m┃\u001b[1m \u001b[0m\u001b[1mOutput Shape          \u001b[0m\u001b[1m \u001b[0m┃\u001b[1m \u001b[0m\u001b[1m      Param #\u001b[0m\u001b[1m \u001b[0m┃\n",
       "┡━━━━━━━━━━━━━━━━━━━━━━━━━━━━━━━━━╇━━━━━━━━━━━━━━━━━━━━━━━━╇━━━━━━━━━━━━━━━┩\n",
       "│ input_layer_4 (\u001b[38;5;33mInputLayer\u001b[0m)      │ (\u001b[38;5;45mNone\u001b[0m, \u001b[38;5;34m784\u001b[0m)            │             \u001b[38;5;34m0\u001b[0m │\n",
       "├─────────────────────────────────┼────────────────────────┼───────────────┤\n",
       "│ dense_24 (\u001b[38;5;33mDense\u001b[0m)                │ (\u001b[38;5;45mNone\u001b[0m, \u001b[38;5;34m128\u001b[0m)            │       \u001b[38;5;34m100,480\u001b[0m │\n",
       "├─────────────────────────────────┼────────────────────────┼───────────────┤\n",
       "│ dense_25 (\u001b[38;5;33mDense\u001b[0m)                │ (\u001b[38;5;45mNone\u001b[0m, \u001b[38;5;34m64\u001b[0m)             │         \u001b[38;5;34m8,256\u001b[0m │\n",
       "├─────────────────────────────────┼────────────────────────┼───────────────┤\n",
       "│ dense_26 (\u001b[38;5;33mDense\u001b[0m)                │ (\u001b[38;5;45mNone\u001b[0m, \u001b[38;5;34m32\u001b[0m)             │         \u001b[38;5;34m2,080\u001b[0m │\n",
       "├─────────────────────────────────┼────────────────────────┼───────────────┤\n",
       "│ encoded_layer (\u001b[38;5;33mDense\u001b[0m)           │ (\u001b[38;5;45mNone\u001b[0m, \u001b[38;5;34m16\u001b[0m)             │           \u001b[38;5;34m528\u001b[0m │\n",
       "├─────────────────────────────────┼────────────────────────┼───────────────┤\n",
       "│ dense_27 (\u001b[38;5;33mDense\u001b[0m)                │ (\u001b[38;5;45mNone\u001b[0m, \u001b[38;5;34m16\u001b[0m)             │           \u001b[38;5;34m272\u001b[0m │\n",
       "├─────────────────────────────────┼────────────────────────┼───────────────┤\n",
       "│ dense_28 (\u001b[38;5;33mDense\u001b[0m)                │ (\u001b[38;5;45mNone\u001b[0m, \u001b[38;5;34m32\u001b[0m)             │           \u001b[38;5;34m544\u001b[0m │\n",
       "├─────────────────────────────────┼────────────────────────┼───────────────┤\n",
       "│ dense_29 (\u001b[38;5;33mDense\u001b[0m)                │ (\u001b[38;5;45mNone\u001b[0m, \u001b[38;5;34m64\u001b[0m)             │         \u001b[38;5;34m2,112\u001b[0m │\n",
       "├─────────────────────────────────┼────────────────────────┼───────────────┤\n",
       "│ dense_30 (\u001b[38;5;33mDense\u001b[0m)                │ (\u001b[38;5;45mNone\u001b[0m, \u001b[38;5;34m128\u001b[0m)            │         \u001b[38;5;34m8,320\u001b[0m │\n",
       "├─────────────────────────────────┼────────────────────────┼───────────────┤\n",
       "│ dense_31 (\u001b[38;5;33mDense\u001b[0m)                │ (\u001b[38;5;45mNone\u001b[0m, \u001b[38;5;34m784\u001b[0m)            │       \u001b[38;5;34m101,136\u001b[0m │\n",
       "└─────────────────────────────────┴────────────────────────┴───────────────┘\n"
      ]
     },
     "metadata": {},
     "output_type": "display_data"
    },
    {
     "data": {
      "text/html": [
       "<pre style=\"white-space:pre;overflow-x:auto;line-height:normal;font-family:Menlo,'DejaVu Sans Mono',consolas,'Courier New',monospace\"><span style=\"font-weight: bold\"> Total params: </span><span style=\"color: #00af00; text-decoration-color: #00af00\">671,186</span> (2.56 MB)\n",
       "</pre>\n"
      ],
      "text/plain": [
       "\u001b[1m Total params: \u001b[0m\u001b[38;5;34m671,186\u001b[0m (2.56 MB)\n"
      ]
     },
     "metadata": {},
     "output_type": "display_data"
    },
    {
     "data": {
      "text/html": [
       "<pre style=\"white-space:pre;overflow-x:auto;line-height:normal;font-family:Menlo,'DejaVu Sans Mono',consolas,'Courier New',monospace\"><span style=\"font-weight: bold\"> Trainable params: </span><span style=\"color: #00af00; text-decoration-color: #00af00\">223,728</span> (873.94 KB)\n",
       "</pre>\n"
      ],
      "text/plain": [
       "\u001b[1m Trainable params: \u001b[0m\u001b[38;5;34m223,728\u001b[0m (873.94 KB)\n"
      ]
     },
     "metadata": {},
     "output_type": "display_data"
    },
    {
     "data": {
      "text/html": [
       "<pre style=\"white-space:pre;overflow-x:auto;line-height:normal;font-family:Menlo,'DejaVu Sans Mono',consolas,'Courier New',monospace\"><span style=\"font-weight: bold\"> Non-trainable params: </span><span style=\"color: #00af00; text-decoration-color: #00af00\">0</span> (0.00 B)\n",
       "</pre>\n"
      ],
      "text/plain": [
       "\u001b[1m Non-trainable params: \u001b[0m\u001b[38;5;34m0\u001b[0m (0.00 B)\n"
      ]
     },
     "metadata": {},
     "output_type": "display_data"
    },
    {
     "data": {
      "text/html": [
       "<pre style=\"white-space:pre;overflow-x:auto;line-height:normal;font-family:Menlo,'DejaVu Sans Mono',consolas,'Courier New',monospace\"><span style=\"font-weight: bold\"> Optimizer params: </span><span style=\"color: #00af00; text-decoration-color: #00af00\">447,458</span> (1.71 MB)\n",
       "</pre>\n"
      ],
      "text/plain": [
       "\u001b[1m Optimizer params: \u001b[0m\u001b[38;5;34m447,458\u001b[0m (1.71 MB)\n"
      ]
     },
     "metadata": {},
     "output_type": "display_data"
    }
   ],
   "source": [
    "# Paso 1: Definir y entrenar el Autoencoder\n",
    "input_img = Input(shape=(784,))\n",
    "encoded = Dense(128, activation='relu')(input_img)\n",
    "encoded = Dense(64, activation='relu')(encoded)\n",
    "encoded = Dense(32, activation='relu')(encoded)\n",
    "encoded = Dense(16, activation='relu', name='encoded_layer')(encoded)\n",
    "\n",
    "decoded = Dense(16, activation='relu')(encoded)\n",
    "decoded = Dense(32, activation='relu')(decoded)\n",
    "decoded = Dense(64, activation='relu')(decoded)\n",
    "decoded = Dense(128, activation='relu')(decoded)\n",
    "decoded = Dense(784, activation='sigmoid')(decoded)\n",
    "\n",
    "autoencoder = Model(input_img, decoded)\n",
    "autoencoder.compile(optimizer=\"adam\", loss='binary_crossentropy')\n",
    "\n",
    "# Entrenar el autoencoder solo con imágenes normales (dígitos 0)\n",
    "autoencoder.fit(x_train_normal, x_train_normal, epochs=20, batch_size=64)\n",
    "\n",
    "autoencoder.summary()"
   ]
  },
  {
   "cell_type": "markdown",
   "metadata": {},
   "source": [
    "# Paso 3: Extraer características con el Encoder\n",
    "\n",
    "El encoder del autoencoder es la parte del modelo que aprende una representación comprimida de las imágenes de entrada. En este paso, utilizamos solo el encoder para extraer las características latentes de las imágenes. Estas características serán utilizadas más adelante para la clasificación de las imágenes como normales o anómalas.\n",
    "\n",
    "1. Creamos un modelo **encoder** que toma las imágenes de entrada y las transforma en una representación latente de dimensión reducida.\n",
    "2. Usamos este encoder para obtener las representaciones latentes de las imágenes tanto del conjunto de entrenamiento como del conjunto de prueba."
   ]
  },
  {
   "cell_type": "code",
   "execution_count": 27,
   "metadata": {},
   "outputs": [
    {
     "name": "stdout",
     "output_type": "stream",
     "text": [
      "\u001b[1m186/186\u001b[0m \u001b[32m━━━━━━━━━━━━━━━━━━━━\u001b[0m\u001b[37m\u001b[0m \u001b[1m0s\u001b[0m 2ms/step\n",
      "\u001b[1m313/313\u001b[0m \u001b[32m━━━━━━━━━━━━━━━━━━━━\u001b[0m\u001b[37m\u001b[0m \u001b[1m1s\u001b[0m 2ms/step\n"
     ]
    }
   ],
   "source": [
    "# Paso 2: Usar el encoder para extraer características\n",
    "encoder = Model(inputs=autoencoder.input, outputs=autoencoder.get_layer('encoded_layer').output)\n",
    "\n",
    "encoded_x_train = encoder.predict(x_train_normal)\n",
    "encoded_x_test = encoder.predict(x_test)"
   ]
  },
  {
   "cell_type": "markdown",
   "metadata": {},
   "source": [
    "# Paso 4: Crear la Red Neuronal Feed-Forward para Clasificación\n",
    "\n",
    "Una vez que tenemos las representaciones latentes de las imágenes, podemos usar estas características para entrenar un modelo de clasificación que detecte las anomalías. Definimos una red neuronal feed-forward (MLP) que toma como entrada las características extraídas por el autoencoder y predice si una imagen es normal o anómala.\n",
    "\n",
    "1. Definimos una red neuronal simple con varias capas densas y funciones de activación ReLU.\n",
    "2. Usamos **hinge loss** como función de pérdida, ya que queremos clasificar las imágenes como normales o anómalas.\n",
    "3. Entrenamos el modelo con las características extraídas y las etiquetas correspondientes (1 para normal y -1 para anómala)."
   ]
  },
  {
   "cell_type": "code",
   "execution_count": 33,
   "metadata": {},
   "outputs": [],
   "source": [
    "# Paso 3: Crear una Red Neuronal Feed-Forward para clasificación\n",
    "model = Sequential()\n",
    "model.add(Dense(256, activation='relu', input_dim=16))  # Capa de entrada correspondiente a las características extraídas\n",
    "model.add(Dropout(0.3))\n",
    "model.add(Dense(128, activation='relu'))\n",
    "model.add(Dropout(0.3))\n",
    "model.add(Dense(64, activation='relu'))\n",
    "model.add(Dropout(0.3))\n",
    "model.add(Dense(32, activation='relu'))\n",
    "model.add(Dropout(0.3))\n",
    "model.add(Dense(16, activation='relu'))\n",
    "model.add(Dense(1, activation='linear'))  # Para usar hinge loss, la activación final debe ser lineal\n",
    "optimizer2 = Adam(learning_rate=0.00001)\n",
    "\n",
    "early_stop = EarlyStopping(\n",
    "    monitor='loss',       # O 'val_loss' si usas validación\n",
    "    patience=10,           # Detén después de 5 épocas sin mejora\n",
    "    mode='min',           # Queremos minimizar la pérdida\n",
    "    restore_best_weights=True  # Restaurar los mejores pesos\n",
    ")\n",
    "\n",
    "def binary_accuracy_hinge(y_true, y_pred):\n",
    "    return tf.reduce_mean(tf.cast(tf.equal(tf.sign(y_pred), y_true), tf.float32))\n",
    "    \n",
    "model.compile(optimizer=optimizer2, loss='hinge', metrics=[binary_accuracy_hinge])\n",
    "\n",
    "# Etiquetas para la clasificación: convertir a 1 (anomalía) y -1 (normal)\n",
    "y_train_normal_labels = np.ones(len(y_train_normal)) * -1  # Cero a -1 para normales\n",
    "y_test_anomalous_labels = np.ones(len(x_test_anomalous))  # Anomalos como 1"
   ]
  },
  {
   "cell_type": "markdown",
   "metadata": {},
   "source": [
    "# Paso 5: Entrenar la Red Neuronal\n",
    "\n",
    "Una vez que hemos definido el modelo de clasificación, lo entrenamos utilizando las características extraídas por el autoencoder. Este proceso ajustará los pesos de la red neuronal para que pueda distinguir entre imágenes normales y anómalas.\n",
    "\n",
    "1. Entrenamos el modelo con las características extraídas y las etiquetas correspondientes.\n",
    "2. Usamos **early stopping** para detener el entrenamiento si no hay mejoras en la pérdida durante varias épocas."
   ]
  },
  {
   "cell_type": "code",
   "execution_count": 34,
   "metadata": {},
   "outputs": [
    {
     "name": "stdout",
     "output_type": "stream",
     "text": [
      "Epoch 1/300\n",
      "\u001b[1m47/47\u001b[0m \u001b[32m━━━━━━━━━━━━━━━━━━━━\u001b[0m\u001b[37m\u001b[0m \u001b[1m3s\u001b[0m 5ms/step - binary_accuracy_hinge: 0.0024 - loss: 4.6068 \n",
      "Epoch 2/300\n",
      "\u001b[1m47/47\u001b[0m \u001b[32m━━━━━━━━━━━━━━━━━━━━\u001b[0m\u001b[37m\u001b[0m \u001b[1m0s\u001b[0m 5ms/step - binary_accuracy_hinge: 0.0061 - loss: 4.1102 \n",
      "Epoch 3/300\n",
      "\u001b[1m47/47\u001b[0m \u001b[32m━━━━━━━━━━━━━━━━━━━━\u001b[0m\u001b[37m\u001b[0m \u001b[1m0s\u001b[0m 5ms/step - binary_accuracy_hinge: 0.0083 - loss: 3.6615  \n",
      "Epoch 4/300\n",
      "\u001b[1m47/47\u001b[0m \u001b[32m━━━━━━━━━━━━━━━━━━━━\u001b[0m\u001b[37m\u001b[0m \u001b[1m0s\u001b[0m 5ms/step - binary_accuracy_hinge: 0.0190 - loss: 3.3248\n",
      "Epoch 5/300\n",
      "\u001b[1m47/47\u001b[0m \u001b[32m━━━━━━━━━━━━━━━━━━━━\u001b[0m\u001b[37m\u001b[0m \u001b[1m0s\u001b[0m 5ms/step - binary_accuracy_hinge: 0.0255 - loss: 3.0500  \n",
      "Epoch 6/300\n",
      "\u001b[1m47/47\u001b[0m \u001b[32m━━━━━━━━━━━━━━━━━━━━\u001b[0m\u001b[37m\u001b[0m \u001b[1m0s\u001b[0m 6ms/step - binary_accuracy_hinge: 0.0437 - loss: 2.8050\n",
      "Epoch 7/300\n",
      "\u001b[1m47/47\u001b[0m \u001b[32m━━━━━━━━━━━━━━━━━━━━\u001b[0m\u001b[37m\u001b[0m \u001b[1m0s\u001b[0m 5ms/step - binary_accuracy_hinge: 0.0704 - loss: 2.5403\n",
      "Epoch 8/300\n",
      "\u001b[1m47/47\u001b[0m \u001b[32m━━━━━━━━━━━━━━━━━━━━\u001b[0m\u001b[37m\u001b[0m \u001b[1m0s\u001b[0m 5ms/step - binary_accuracy_hinge: 0.1034 - loss: 2.2964\n",
      "Epoch 9/300\n",
      "\u001b[1m47/47\u001b[0m \u001b[32m━━━━━━━━━━━━━━━━━━━━\u001b[0m\u001b[37m\u001b[0m \u001b[1m0s\u001b[0m 5ms/step - binary_accuracy_hinge: 0.1496 - loss: 2.1190\n",
      "Epoch 10/300\n",
      "\u001b[1m47/47\u001b[0m \u001b[32m━━━━━━━━━━━━━━━━━━━━\u001b[0m\u001b[37m\u001b[0m \u001b[1m0s\u001b[0m 5ms/step - binary_accuracy_hinge: 0.2075 - loss: 1.8707\n",
      "Epoch 11/300\n",
      "\u001b[1m47/47\u001b[0m \u001b[32m━━━━━━━━━━━━━━━━━━━━\u001b[0m\u001b[37m\u001b[0m \u001b[1m0s\u001b[0m 5ms/step - binary_accuracy_hinge: 0.2800 - loss: 1.6725\n",
      "Epoch 12/300\n",
      "\u001b[1m47/47\u001b[0m \u001b[32m━━━━━━━━━━━━━━━━━━━━\u001b[0m\u001b[37m\u001b[0m \u001b[1m0s\u001b[0m 5ms/step - binary_accuracy_hinge: 0.3423 - loss: 1.5268\n",
      "Epoch 13/300\n",
      "\u001b[1m47/47\u001b[0m \u001b[32m━━━━━━━━━━━━━━━━━━━━\u001b[0m\u001b[37m\u001b[0m \u001b[1m0s\u001b[0m 5ms/step - binary_accuracy_hinge: 0.4358 - loss: 1.3182\n",
      "Epoch 14/300\n",
      "\u001b[1m47/47\u001b[0m \u001b[32m━━━━━━━━━━━━━━━━━━━━\u001b[0m\u001b[37m\u001b[0m \u001b[1m0s\u001b[0m 5ms/step - binary_accuracy_hinge: 0.4975 - loss: 1.1710\n",
      "Epoch 15/300\n",
      "\u001b[1m47/47\u001b[0m \u001b[32m━━━━━━━━━━━━━━━━━━━━\u001b[0m\u001b[37m\u001b[0m \u001b[1m0s\u001b[0m 5ms/step - binary_accuracy_hinge: 0.5516 - loss: 1.0344\n",
      "Epoch 16/300\n",
      "\u001b[1m47/47\u001b[0m \u001b[32m━━━━━━━━━━━━━━━━━━━━\u001b[0m\u001b[37m\u001b[0m \u001b[1m0s\u001b[0m 5ms/step - binary_accuracy_hinge: 0.6308 - loss: 0.8985\n",
      "Epoch 17/300\n",
      "\u001b[1m47/47\u001b[0m \u001b[32m━━━━━━━━━━━━━━━━━━━━\u001b[0m\u001b[37m\u001b[0m \u001b[1m0s\u001b[0m 5ms/step - binary_accuracy_hinge: 0.6412 - loss: 0.8388\n",
      "Epoch 18/300\n",
      "\u001b[1m47/47\u001b[0m \u001b[32m━━━━━━━━━━━━━━━━━━━━\u001b[0m\u001b[37m\u001b[0m \u001b[1m0s\u001b[0m 5ms/step - binary_accuracy_hinge: 0.6801 - loss: 0.7484\n",
      "Epoch 19/300\n",
      "\u001b[1m47/47\u001b[0m \u001b[32m━━━━━━━━━━━━━━━━━━━━\u001b[0m\u001b[37m\u001b[0m \u001b[1m0s\u001b[0m 5ms/step - binary_accuracy_hinge: 0.7226 - loss: 0.6660\n",
      "Epoch 20/300\n",
      "\u001b[1m47/47\u001b[0m \u001b[32m━━━━━━━━━━━━━━━━━━━━\u001b[0m\u001b[37m\u001b[0m \u001b[1m0s\u001b[0m 5ms/step - binary_accuracy_hinge: 0.7620 - loss: 0.5843\n",
      "Epoch 21/300\n",
      "\u001b[1m47/47\u001b[0m \u001b[32m━━━━━━━━━━━━━━━━━━━━\u001b[0m\u001b[37m\u001b[0m \u001b[1m0s\u001b[0m 5ms/step - binary_accuracy_hinge: 0.7729 - loss: 0.5421\n",
      "Epoch 22/300\n",
      "\u001b[1m47/47\u001b[0m \u001b[32m━━━━━━━━━━━━━━━━━━━━\u001b[0m\u001b[37m\u001b[0m \u001b[1m0s\u001b[0m 5ms/step - binary_accuracy_hinge: 0.8015 - loss: 0.4785\n",
      "Epoch 23/300\n",
      "\u001b[1m47/47\u001b[0m \u001b[32m━━━━━━━━━━━━━━━━━━━━\u001b[0m\u001b[37m\u001b[0m \u001b[1m0s\u001b[0m 5ms/step - binary_accuracy_hinge: 0.8366 - loss: 0.4256\n",
      "Epoch 24/300\n",
      "\u001b[1m47/47\u001b[0m \u001b[32m━━━━━━━━━━━━━━━━━━━━\u001b[0m\u001b[37m\u001b[0m \u001b[1m0s\u001b[0m 5ms/step - binary_accuracy_hinge: 0.8249 - loss: 0.4254\n",
      "Epoch 25/300\n",
      "\u001b[1m47/47\u001b[0m \u001b[32m━━━━━━━━━━━━━━━━━━━━\u001b[0m\u001b[37m\u001b[0m \u001b[1m0s\u001b[0m 5ms/step - binary_accuracy_hinge: 0.8541 - loss: 0.3682\n",
      "Epoch 26/300\n",
      "\u001b[1m47/47\u001b[0m \u001b[32m━━━━━━━━━━━━━━━━━━━━\u001b[0m\u001b[37m\u001b[0m \u001b[1m0s\u001b[0m 5ms/step - binary_accuracy_hinge: 0.8596 - loss: 0.3481\n",
      "Epoch 27/300\n",
      "\u001b[1m47/47\u001b[0m \u001b[32m━━━━━━━━━━━━━━━━━━━━\u001b[0m\u001b[37m\u001b[0m \u001b[1m0s\u001b[0m 5ms/step - binary_accuracy_hinge: 0.8781 - loss: 0.3152\n",
      "Epoch 28/300\n",
      "\u001b[1m47/47\u001b[0m \u001b[32m━━━━━━━━━━━━━━━━━━━━\u001b[0m\u001b[37m\u001b[0m \u001b[1m0s\u001b[0m 7ms/step - binary_accuracy_hinge: 0.8803 - loss: 0.2989\n",
      "Epoch 29/300\n",
      "\u001b[1m47/47\u001b[0m \u001b[32m━━━━━━━━━━━━━━━━━━━━\u001b[0m\u001b[37m\u001b[0m \u001b[1m0s\u001b[0m 5ms/step - binary_accuracy_hinge: 0.8945 - loss: 0.2745\n",
      "Epoch 30/300\n",
      "\u001b[1m47/47\u001b[0m \u001b[32m━━━━━━━━━━━━━━━━━━━━\u001b[0m\u001b[37m\u001b[0m \u001b[1m0s\u001b[0m 5ms/step - binary_accuracy_hinge: 0.8851 - loss: 0.2811\n",
      "Epoch 31/300\n",
      "\u001b[1m47/47\u001b[0m \u001b[32m━━━━━━━━━━━━━━━━━━━━\u001b[0m\u001b[37m\u001b[0m \u001b[1m0s\u001b[0m 6ms/step - binary_accuracy_hinge: 0.9070 - loss: 0.2367\n",
      "Epoch 32/300\n",
      "\u001b[1m47/47\u001b[0m \u001b[32m━━━━━━━━━━━━━━━━━━━━\u001b[0m\u001b[37m\u001b[0m \u001b[1m0s\u001b[0m 5ms/step - binary_accuracy_hinge: 0.9183 - loss: 0.2180\n",
      "Epoch 33/300\n",
      "\u001b[1m47/47\u001b[0m \u001b[32m━━━━━━━━━━━━━━━━━━━━\u001b[0m\u001b[37m\u001b[0m \u001b[1m0s\u001b[0m 5ms/step - binary_accuracy_hinge: 0.9191 - loss: 0.2031\n",
      "Epoch 34/300\n",
      "\u001b[1m47/47\u001b[0m \u001b[32m━━━━━━━━━━━━━━━━━━━━\u001b[0m\u001b[37m\u001b[0m \u001b[1m0s\u001b[0m 6ms/step - binary_accuracy_hinge: 0.9185 - loss: 0.2046\n",
      "Epoch 35/300\n",
      "\u001b[1m47/47\u001b[0m \u001b[32m━━━━━━━━━━━━━━━━━━━━\u001b[0m\u001b[37m\u001b[0m \u001b[1m0s\u001b[0m 5ms/step - binary_accuracy_hinge: 0.9278 - loss: 0.1865\n",
      "Epoch 36/300\n",
      "\u001b[1m47/47\u001b[0m \u001b[32m━━━━━━━━━━━━━━━━━━━━\u001b[0m\u001b[37m\u001b[0m \u001b[1m0s\u001b[0m 5ms/step - binary_accuracy_hinge: 0.9254 - loss: 0.1878\n",
      "Epoch 37/300\n",
      "\u001b[1m47/47\u001b[0m \u001b[32m━━━━━━━━━━━━━━━━━━━━\u001b[0m\u001b[37m\u001b[0m \u001b[1m0s\u001b[0m 5ms/step - binary_accuracy_hinge: 0.9358 - loss: 0.1585\n",
      "Epoch 38/300\n",
      "\u001b[1m47/47\u001b[0m \u001b[32m━━━━━━━━━━━━━━━━━━━━\u001b[0m\u001b[37m\u001b[0m \u001b[1m0s\u001b[0m 5ms/step - binary_accuracy_hinge: 0.9354 - loss: 0.1630\n",
      "Epoch 39/300\n",
      "\u001b[1m47/47\u001b[0m \u001b[32m━━━━━━━━━━━━━━━━━━━━\u001b[0m\u001b[37m\u001b[0m \u001b[1m0s\u001b[0m 5ms/step - binary_accuracy_hinge: 0.9396 - loss: 0.1516\n",
      "Epoch 40/300\n",
      "\u001b[1m47/47\u001b[0m \u001b[32m━━━━━━━━━━━━━━━━━━━━\u001b[0m\u001b[37m\u001b[0m \u001b[1m0s\u001b[0m 5ms/step - binary_accuracy_hinge: 0.9554 - loss: 0.1228\n",
      "Epoch 41/300\n",
      "\u001b[1m47/47\u001b[0m \u001b[32m━━━━━━━━━━━━━━━━━━━━\u001b[0m\u001b[37m\u001b[0m \u001b[1m0s\u001b[0m 5ms/step - binary_accuracy_hinge: 0.9537 - loss: 0.1323\n",
      "Epoch 42/300\n",
      "\u001b[1m47/47\u001b[0m \u001b[32m━━━━━━━━━━━━━━━━━━━━\u001b[0m\u001b[37m\u001b[0m \u001b[1m0s\u001b[0m 5ms/step - binary_accuracy_hinge: 0.9510 - loss: 0.1238\n",
      "Epoch 43/300\n",
      "\u001b[1m47/47\u001b[0m \u001b[32m━━━━━━━━━━━━━━━━━━━━\u001b[0m\u001b[37m\u001b[0m \u001b[1m0s\u001b[0m 5ms/step - binary_accuracy_hinge: 0.9552 - loss: 0.1197\n",
      "Epoch 44/300\n",
      "\u001b[1m47/47\u001b[0m \u001b[32m━━━━━━━━━━━━━━━━━━━━\u001b[0m\u001b[37m\u001b[0m \u001b[1m0s\u001b[0m 5ms/step - binary_accuracy_hinge: 0.9510 - loss: 0.1206\n",
      "Epoch 45/300\n",
      "\u001b[1m47/47\u001b[0m \u001b[32m━━━━━━━━━━━━━━━━━━━━\u001b[0m\u001b[37m\u001b[0m \u001b[1m0s\u001b[0m 5ms/step - binary_accuracy_hinge: 0.9524 - loss: 0.1131\n",
      "Epoch 46/300\n",
      "\u001b[1m47/47\u001b[0m \u001b[32m━━━━━━━━━━━━━━━━━━━━\u001b[0m\u001b[37m\u001b[0m \u001b[1m0s\u001b[0m 5ms/step - binary_accuracy_hinge: 0.9613 - loss: 0.0987\n",
      "Epoch 47/300\n",
      "\u001b[1m47/47\u001b[0m \u001b[32m━━━━━━━━━━━━━━━━━━━━\u001b[0m\u001b[37m\u001b[0m \u001b[1m0s\u001b[0m 5ms/step - binary_accuracy_hinge: 0.9550 - loss: 0.1130\n",
      "Epoch 48/300\n",
      "\u001b[1m47/47\u001b[0m \u001b[32m━━━━━━━━━━━━━━━━━━━━\u001b[0m\u001b[37m\u001b[0m \u001b[1m0s\u001b[0m 5ms/step - binary_accuracy_hinge: 0.9609 - loss: 0.1012\n",
      "Epoch 49/300\n",
      "\u001b[1m47/47\u001b[0m \u001b[32m━━━━━━━━━━━━━━━━━━━━\u001b[0m\u001b[37m\u001b[0m \u001b[1m0s\u001b[0m 5ms/step - binary_accuracy_hinge: 0.9670 - loss: 0.0891\n",
      "Epoch 50/300\n",
      "\u001b[1m47/47\u001b[0m \u001b[32m━━━━━━━━━━━━━━━━━━━━\u001b[0m\u001b[37m\u001b[0m \u001b[1m0s\u001b[0m 5ms/step - binary_accuracy_hinge: 0.9661 - loss: 0.0863\n",
      "Epoch 51/300\n",
      "\u001b[1m47/47\u001b[0m \u001b[32m━━━━━━━━━━━━━━━━━━━━\u001b[0m\u001b[37m\u001b[0m \u001b[1m0s\u001b[0m 7ms/step - binary_accuracy_hinge: 0.9625 - loss: 0.0893\n",
      "Epoch 52/300\n",
      "\u001b[1m47/47\u001b[0m \u001b[32m━━━━━━━━━━━━━━━━━━━━\u001b[0m\u001b[37m\u001b[0m \u001b[1m0s\u001b[0m 5ms/step - binary_accuracy_hinge: 0.9696 - loss: 0.0772\n",
      "Epoch 53/300\n",
      "\u001b[1m47/47\u001b[0m \u001b[32m━━━━━━━━━━━━━━━━━━━━\u001b[0m\u001b[37m\u001b[0m \u001b[1m0s\u001b[0m 4ms/step - binary_accuracy_hinge: 0.9739 - loss: 0.0688\n",
      "Epoch 54/300\n",
      "\u001b[1m47/47\u001b[0m \u001b[32m━━━━━━━━━━━━━━━━━━━━\u001b[0m\u001b[37m\u001b[0m \u001b[1m0s\u001b[0m 5ms/step - binary_accuracy_hinge: 0.9731 - loss: 0.0714\n",
      "Epoch 55/300\n",
      "\u001b[1m47/47\u001b[0m \u001b[32m━━━━━━━━━━━━━━━━━━━━\u001b[0m\u001b[37m\u001b[0m \u001b[1m0s\u001b[0m 5ms/step - binary_accuracy_hinge: 0.9759 - loss: 0.0635\n",
      "Epoch 56/300\n",
      "\u001b[1m47/47\u001b[0m \u001b[32m━━━━━━━━━━━━━━━━━━━━\u001b[0m\u001b[37m\u001b[0m \u001b[1m0s\u001b[0m 5ms/step - binary_accuracy_hinge: 0.9713 - loss: 0.0715\n",
      "Epoch 57/300\n",
      "\u001b[1m47/47\u001b[0m \u001b[32m━━━━━━━━━━━━━━━━━━━━\u001b[0m\u001b[37m\u001b[0m \u001b[1m0s\u001b[0m 5ms/step - binary_accuracy_hinge: 0.9762 - loss: 0.0624\n",
      "Epoch 58/300\n",
      "\u001b[1m47/47\u001b[0m \u001b[32m━━━━━━━━━━━━━━━━━━━━\u001b[0m\u001b[37m\u001b[0m \u001b[1m0s\u001b[0m 5ms/step - binary_accuracy_hinge: 0.9786 - loss: 0.0560\n",
      "Epoch 59/300\n",
      "\u001b[1m47/47\u001b[0m \u001b[32m━━━━━━━━━━━━━━━━━━━━\u001b[0m\u001b[37m\u001b[0m \u001b[1m0s\u001b[0m 5ms/step - binary_accuracy_hinge: 0.9821 - loss: 0.0512\n",
      "Epoch 60/300\n",
      "\u001b[1m47/47\u001b[0m \u001b[32m━━━━━━━━━━━━━━━━━━━━\u001b[0m\u001b[37m\u001b[0m \u001b[1m0s\u001b[0m 4ms/step - binary_accuracy_hinge: 0.9795 - loss: 0.0538\n",
      "Epoch 61/300\n",
      "\u001b[1m47/47\u001b[0m \u001b[32m━━━━━━━━━━━━━━━━━━━━\u001b[0m\u001b[37m\u001b[0m \u001b[1m0s\u001b[0m 5ms/step - binary_accuracy_hinge: 0.9763 - loss: 0.0576\n",
      "Epoch 62/300\n",
      "\u001b[1m47/47\u001b[0m \u001b[32m━━━━━━━━━━━━━━━━━━━━\u001b[0m\u001b[37m\u001b[0m \u001b[1m0s\u001b[0m 5ms/step - binary_accuracy_hinge: 0.9775 - loss: 0.0544\n",
      "Epoch 63/300\n",
      "\u001b[1m47/47\u001b[0m \u001b[32m━━━━━━━━━━━━━━━━━━━━\u001b[0m\u001b[37m\u001b[0m \u001b[1m0s\u001b[0m 5ms/step - binary_accuracy_hinge: 0.9789 - loss: 0.0510\n",
      "Epoch 64/300\n",
      "\u001b[1m47/47\u001b[0m \u001b[32m━━━━━━━━━━━━━━━━━━━━\u001b[0m\u001b[37m\u001b[0m \u001b[1m0s\u001b[0m 5ms/step - binary_accuracy_hinge: 0.9826 - loss: 0.0440\n",
      "Epoch 65/300\n",
      "\u001b[1m47/47\u001b[0m \u001b[32m━━━━━━━━━━━━━━━━━━━━\u001b[0m\u001b[37m\u001b[0m \u001b[1m0s\u001b[0m 5ms/step - binary_accuracy_hinge: 0.9841 - loss: 0.0460\n",
      "Epoch 66/300\n",
      "\u001b[1m47/47\u001b[0m \u001b[32m━━━━━━━━━━━━━━━━━━━━\u001b[0m\u001b[37m\u001b[0m \u001b[1m0s\u001b[0m 5ms/step - binary_accuracy_hinge: 0.9863 - loss: 0.0355\n",
      "Epoch 67/300\n",
      "\u001b[1m47/47\u001b[0m \u001b[32m━━━━━━━━━━━━━━━━━━━━\u001b[0m\u001b[37m\u001b[0m \u001b[1m0s\u001b[0m 5ms/step - binary_accuracy_hinge: 0.9829 - loss: 0.0406\n",
      "Epoch 68/300\n",
      "\u001b[1m47/47\u001b[0m \u001b[32m━━━━━━━━━━━━━━━━━━━━\u001b[0m\u001b[37m\u001b[0m \u001b[1m0s\u001b[0m 4ms/step - binary_accuracy_hinge: 0.9837 - loss: 0.0409\n",
      "Epoch 69/300\n",
      "\u001b[1m47/47\u001b[0m \u001b[32m━━━━━━━━━━━━━━━━━━━━\u001b[0m\u001b[37m\u001b[0m \u001b[1m0s\u001b[0m 5ms/step - binary_accuracy_hinge: 0.9801 - loss: 0.0435\n",
      "Epoch 70/300\n",
      "\u001b[1m47/47\u001b[0m \u001b[32m━━━━━━━━━━━━━━━━━━━━\u001b[0m\u001b[37m\u001b[0m \u001b[1m0s\u001b[0m 5ms/step - binary_accuracy_hinge: 0.9867 - loss: 0.0328\n",
      "Epoch 71/300\n",
      "\u001b[1m47/47\u001b[0m \u001b[32m━━━━━━━━━━━━━━━━━━━━\u001b[0m\u001b[37m\u001b[0m \u001b[1m0s\u001b[0m 5ms/step - binary_accuracy_hinge: 0.9854 - loss: 0.0375\n",
      "Epoch 72/300\n",
      "\u001b[1m47/47\u001b[0m \u001b[32m━━━━━━━━━━━━━━━━━━━━\u001b[0m\u001b[37m\u001b[0m \u001b[1m0s\u001b[0m 4ms/step - binary_accuracy_hinge: 0.9846 - loss: 0.0376\n",
      "Epoch 73/300\n",
      "\u001b[1m47/47\u001b[0m \u001b[32m━━━━━━━━━━━━━━━━━━━━\u001b[0m\u001b[37m\u001b[0m \u001b[1m0s\u001b[0m 5ms/step - binary_accuracy_hinge: 0.9855 - loss: 0.0364\n",
      "Epoch 74/300\n",
      "\u001b[1m47/47\u001b[0m \u001b[32m━━━━━━━━━━━━━━━━━━━━\u001b[0m\u001b[37m\u001b[0m \u001b[1m0s\u001b[0m 5ms/step - binary_accuracy_hinge: 0.9870 - loss: 0.0320\n",
      "Epoch 75/300\n",
      "\u001b[1m47/47\u001b[0m \u001b[32m━━━━━━━━━━━━━━━━━━━━\u001b[0m\u001b[37m\u001b[0m \u001b[1m0s\u001b[0m 5ms/step - binary_accuracy_hinge: 0.9879 - loss: 0.0301\n",
      "Epoch 76/300\n",
      "\u001b[1m47/47\u001b[0m \u001b[32m━━━━━━━━━━━━━━━━━━━━\u001b[0m\u001b[37m\u001b[0m \u001b[1m0s\u001b[0m 5ms/step - binary_accuracy_hinge: 0.9867 - loss: 0.0344\n",
      "Epoch 77/300\n",
      "\u001b[1m47/47\u001b[0m \u001b[32m━━━━━━━━━━━━━━━━━━━━\u001b[0m\u001b[37m\u001b[0m \u001b[1m0s\u001b[0m 5ms/step - binary_accuracy_hinge: 0.9905 - loss: 0.0257\n",
      "Epoch 78/300\n",
      "\u001b[1m47/47\u001b[0m \u001b[32m━━━━━━━━━━━━━━━━━━━━\u001b[0m\u001b[37m\u001b[0m \u001b[1m0s\u001b[0m 5ms/step - binary_accuracy_hinge: 0.9889 - loss: 0.0297\n",
      "Epoch 79/300\n",
      "\u001b[1m47/47\u001b[0m \u001b[32m━━━━━━━━━━━━━━━━━━━━\u001b[0m\u001b[37m\u001b[0m \u001b[1m0s\u001b[0m 5ms/step - binary_accuracy_hinge: 0.9910 - loss: 0.0260\n",
      "Epoch 80/300\n",
      "\u001b[1m47/47\u001b[0m \u001b[32m━━━━━━━━━━━━━━━━━━━━\u001b[0m\u001b[37m\u001b[0m \u001b[1m0s\u001b[0m 5ms/step - binary_accuracy_hinge: 0.9876 - loss: 0.0320\n",
      "Epoch 81/300\n",
      "\u001b[1m47/47\u001b[0m \u001b[32m━━━━━━━━━━━━━━━━━━━━\u001b[0m\u001b[37m\u001b[0m \u001b[1m0s\u001b[0m 5ms/step - binary_accuracy_hinge: 0.9864 - loss: 0.0312\n",
      "Epoch 82/300\n",
      "\u001b[1m47/47\u001b[0m \u001b[32m━━━━━━━━━━━━━━━━━━━━\u001b[0m\u001b[37m\u001b[0m \u001b[1m0s\u001b[0m 4ms/step - binary_accuracy_hinge: 0.9904 - loss: 0.0217\n",
      "Epoch 83/300\n",
      "\u001b[1m47/47\u001b[0m \u001b[32m━━━━━━━━━━━━━━━━━━━━\u001b[0m\u001b[37m\u001b[0m \u001b[1m0s\u001b[0m 5ms/step - binary_accuracy_hinge: 0.9916 - loss: 0.0221\n",
      "Epoch 84/300\n",
      "\u001b[1m47/47\u001b[0m \u001b[32m━━━━━━━━━━━━━━━━━━━━\u001b[0m\u001b[37m\u001b[0m \u001b[1m0s\u001b[0m 5ms/step - binary_accuracy_hinge: 0.9902 - loss: 0.0240  \n",
      "Epoch 85/300\n",
      "\u001b[1m47/47\u001b[0m \u001b[32m━━━━━━━━━━━━━━━━━━━━\u001b[0m\u001b[37m\u001b[0m \u001b[1m0s\u001b[0m 5ms/step - binary_accuracy_hinge: 0.9893 - loss: 0.0300\n",
      "Epoch 86/300\n",
      "\u001b[1m47/47\u001b[0m \u001b[32m━━━━━━━━━━━━━━━━━━━━\u001b[0m\u001b[37m\u001b[0m \u001b[1m0s\u001b[0m 5ms/step - binary_accuracy_hinge: 0.9910 - loss: 0.0217\n",
      "Epoch 87/300\n",
      "\u001b[1m47/47\u001b[0m \u001b[32m━━━━━━━━━━━━━━━━━━━━\u001b[0m\u001b[37m\u001b[0m \u001b[1m0s\u001b[0m 5ms/step - binary_accuracy_hinge: 0.9894 - loss: 0.0247\n",
      "Epoch 88/300\n",
      "\u001b[1m47/47\u001b[0m \u001b[32m━━━━━━━━━━━━━━━━━━━━\u001b[0m\u001b[37m\u001b[0m \u001b[1m0s\u001b[0m 5ms/step - binary_accuracy_hinge: 0.9915 - loss: 0.0212\n",
      "Epoch 89/300\n",
      "\u001b[1m47/47\u001b[0m \u001b[32m━━━━━━━━━━━━━━━━━━━━\u001b[0m\u001b[37m\u001b[0m \u001b[1m0s\u001b[0m 5ms/step - binary_accuracy_hinge: 0.9913 - loss: 0.0205\n",
      "Epoch 90/300\n",
      "\u001b[1m47/47\u001b[0m \u001b[32m━━━━━━━━━━━━━━━━━━━━\u001b[0m\u001b[37m\u001b[0m \u001b[1m0s\u001b[0m 5ms/step - binary_accuracy_hinge: 0.9938 - loss: 0.0177\n",
      "Epoch 91/300\n",
      "\u001b[1m47/47\u001b[0m \u001b[32m━━━━━━━━━━━━━━━━━━━━\u001b[0m\u001b[37m\u001b[0m \u001b[1m0s\u001b[0m 5ms/step - binary_accuracy_hinge: 0.9914 - loss: 0.0248\n",
      "Epoch 92/300\n",
      "\u001b[1m47/47\u001b[0m \u001b[32m━━━━━━━━━━━━━━━━━━━━\u001b[0m\u001b[37m\u001b[0m \u001b[1m0s\u001b[0m 5ms/step - binary_accuracy_hinge: 0.9907 - loss: 0.0242\n",
      "Epoch 93/300\n",
      "\u001b[1m47/47\u001b[0m \u001b[32m━━━━━━━━━━━━━━━━━━━━\u001b[0m\u001b[37m\u001b[0m \u001b[1m0s\u001b[0m 5ms/step - binary_accuracy_hinge: 0.9912 - loss: 0.0210\n",
      "Epoch 94/300\n",
      "\u001b[1m47/47\u001b[0m \u001b[32m━━━━━━━━━━━━━━━━━━━━\u001b[0m\u001b[37m\u001b[0m \u001b[1m0s\u001b[0m 5ms/step - binary_accuracy_hinge: 0.9938 - loss: 0.0177\n",
      "Epoch 95/300\n",
      "\u001b[1m47/47\u001b[0m \u001b[32m━━━━━━━━━━━━━━━━━━━━\u001b[0m\u001b[37m\u001b[0m \u001b[1m0s\u001b[0m 4ms/step - binary_accuracy_hinge: 0.9944 - loss: 0.0157\n",
      "Epoch 96/300\n",
      "\u001b[1m47/47\u001b[0m \u001b[32m━━━━━━━━━━━━━━━━━━━━\u001b[0m\u001b[37m\u001b[0m \u001b[1m0s\u001b[0m 5ms/step - binary_accuracy_hinge: 0.9926 - loss: 0.0168\n",
      "Epoch 97/300\n",
      "\u001b[1m47/47\u001b[0m \u001b[32m━━━━━━━━━━━━━━━━━━━━\u001b[0m\u001b[37m\u001b[0m \u001b[1m0s\u001b[0m 4ms/step - binary_accuracy_hinge: 0.9955 - loss: 0.0123\n",
      "Epoch 98/300\n",
      "\u001b[1m47/47\u001b[0m \u001b[32m━━━━━━━━━━━━━━━━━━━━\u001b[0m\u001b[37m\u001b[0m \u001b[1m0s\u001b[0m 4ms/step - binary_accuracy_hinge: 0.9914 - loss: 0.0241\n",
      "Epoch 99/300\n",
      "\u001b[1m47/47\u001b[0m \u001b[32m━━━━━━━━━━━━━━━━━━━━\u001b[0m\u001b[37m\u001b[0m \u001b[1m0s\u001b[0m 5ms/step - binary_accuracy_hinge: 0.9925 - loss: 0.0174\n",
      "Epoch 100/300\n",
      "\u001b[1m47/47\u001b[0m \u001b[32m━━━━━━━━━━━━━━━━━━━━\u001b[0m\u001b[37m\u001b[0m \u001b[1m0s\u001b[0m 5ms/step - binary_accuracy_hinge: 0.9925 - loss: 0.0162\n",
      "Epoch 101/300\n",
      "\u001b[1m47/47\u001b[0m \u001b[32m━━━━━━━━━━━━━━━━━━━━\u001b[0m\u001b[37m\u001b[0m \u001b[1m0s\u001b[0m 5ms/step - binary_accuracy_hinge: 0.9936 - loss: 0.0178\n",
      "Epoch 102/300\n",
      "\u001b[1m47/47\u001b[0m \u001b[32m━━━━━━━━━━━━━━━━━━━━\u001b[0m\u001b[37m\u001b[0m \u001b[1m0s\u001b[0m 5ms/step - binary_accuracy_hinge: 0.9960 - loss: 0.0127\n",
      "Epoch 103/300\n",
      "\u001b[1m47/47\u001b[0m \u001b[32m━━━━━━━━━━━━━━━━━━━━\u001b[0m\u001b[37m\u001b[0m \u001b[1m0s\u001b[0m 5ms/step - binary_accuracy_hinge: 0.9951 - loss: 0.0148\n",
      "Epoch 104/300\n",
      "\u001b[1m47/47\u001b[0m \u001b[32m━━━━━━━━━━━━━━━━━━━━\u001b[0m\u001b[37m\u001b[0m \u001b[1m0s\u001b[0m 5ms/step - binary_accuracy_hinge: 0.9956 - loss: 0.0133\n",
      "Epoch 105/300\n",
      "\u001b[1m47/47\u001b[0m \u001b[32m━━━━━━━━━━━━━━━━━━━━\u001b[0m\u001b[37m\u001b[0m \u001b[1m0s\u001b[0m 5ms/step - binary_accuracy_hinge: 0.9936 - loss: 0.0132\n",
      "Epoch 106/300\n",
      "\u001b[1m47/47\u001b[0m \u001b[32m━━━━━━━━━━━━━━━━━━━━\u001b[0m\u001b[37m\u001b[0m \u001b[1m0s\u001b[0m 5ms/step - binary_accuracy_hinge: 0.9956 - loss: 0.0127\n",
      "Epoch 107/300\n",
      "\u001b[1m47/47\u001b[0m \u001b[32m━━━━━━━━━━━━━━━━━━━━\u001b[0m\u001b[37m\u001b[0m \u001b[1m0s\u001b[0m 4ms/step - binary_accuracy_hinge: 0.9948 - loss: 0.0141\n",
      "Epoch 108/300\n",
      "\u001b[1m47/47\u001b[0m \u001b[32m━━━━━━━━━━━━━━━━━━━━\u001b[0m\u001b[37m\u001b[0m \u001b[1m0s\u001b[0m 5ms/step - binary_accuracy_hinge: 0.9932 - loss: 0.0162\n",
      "Epoch 109/300\n",
      "\u001b[1m47/47\u001b[0m \u001b[32m━━━━━━━━━━━━━━━━━━━━\u001b[0m\u001b[37m\u001b[0m \u001b[1m0s\u001b[0m 5ms/step - binary_accuracy_hinge: 0.9951 - loss: 0.0147\n",
      "Epoch 110/300\n",
      "\u001b[1m47/47\u001b[0m \u001b[32m━━━━━━━━━━━━━━━━━━━━\u001b[0m\u001b[37m\u001b[0m \u001b[1m0s\u001b[0m 5ms/step - binary_accuracy_hinge: 0.9935 - loss: 0.0176\n",
      "Epoch 111/300\n",
      "\u001b[1m47/47\u001b[0m \u001b[32m━━━━━━━━━━━━━━━━━━━━\u001b[0m\u001b[37m\u001b[0m \u001b[1m0s\u001b[0m 5ms/step - binary_accuracy_hinge: 0.9956 - loss: 0.0112\n",
      "Epoch 112/300\n",
      "\u001b[1m47/47\u001b[0m \u001b[32m━━━━━━━━━━━━━━━━━━━━\u001b[0m\u001b[37m\u001b[0m \u001b[1m0s\u001b[0m 5ms/step - binary_accuracy_hinge: 0.9949 - loss: 0.0154\n",
      "Epoch 113/300\n",
      "\u001b[1m47/47\u001b[0m \u001b[32m━━━━━━━━━━━━━━━━━━━━\u001b[0m\u001b[37m\u001b[0m \u001b[1m0s\u001b[0m 5ms/step - binary_accuracy_hinge: 0.9968 - loss: 0.0085\n",
      "Epoch 114/300\n",
      "\u001b[1m47/47\u001b[0m \u001b[32m━━━━━━━━━━━━━━━━━━━━\u001b[0m\u001b[37m\u001b[0m \u001b[1m0s\u001b[0m 5ms/step - binary_accuracy_hinge: 0.9934 - loss: 0.0150\n",
      "Epoch 115/300\n",
      "\u001b[1m47/47\u001b[0m \u001b[32m━━━━━━━━━━━━━━━━━━━━\u001b[0m\u001b[37m\u001b[0m \u001b[1m0s\u001b[0m 5ms/step - binary_accuracy_hinge: 0.9959 - loss: 0.0102\n",
      "Epoch 116/300\n",
      "\u001b[1m47/47\u001b[0m \u001b[32m━━━━━━━━━━━━━━━━━━━━\u001b[0m\u001b[37m\u001b[0m \u001b[1m0s\u001b[0m 5ms/step - binary_accuracy_hinge: 0.9975 - loss: 0.0082\n",
      "Epoch 117/300\n",
      "\u001b[1m47/47\u001b[0m \u001b[32m━━━━━━━━━━━━━━━━━━━━\u001b[0m\u001b[37m\u001b[0m \u001b[1m0s\u001b[0m 5ms/step - binary_accuracy_hinge: 0.9952 - loss: 0.0109 \n",
      "Epoch 118/300\n",
      "\u001b[1m47/47\u001b[0m \u001b[32m━━━━━━━━━━━━━━━━━━━━\u001b[0m\u001b[37m\u001b[0m \u001b[1m0s\u001b[0m 5ms/step - binary_accuracy_hinge: 0.9945 - loss: 0.0118\n",
      "Epoch 119/300\n",
      "\u001b[1m47/47\u001b[0m \u001b[32m━━━━━━━━━━━━━━━━━━━━\u001b[0m\u001b[37m\u001b[0m \u001b[1m0s\u001b[0m 4ms/step - binary_accuracy_hinge: 0.9965 - loss: 0.0101\n",
      "Epoch 120/300\n",
      "\u001b[1m47/47\u001b[0m \u001b[32m━━━━━━━━━━━━━━━━━━━━\u001b[0m\u001b[37m\u001b[0m \u001b[1m0s\u001b[0m 7ms/step - binary_accuracy_hinge: 0.9977 - loss: 0.0077\n",
      "Epoch 121/300\n",
      "\u001b[1m47/47\u001b[0m \u001b[32m━━━━━━━━━━━━━━━━━━━━\u001b[0m\u001b[37m\u001b[0m \u001b[1m0s\u001b[0m 5ms/step - binary_accuracy_hinge: 0.9955 - loss: 0.0117\n",
      "Epoch 122/300\n",
      "\u001b[1m47/47\u001b[0m \u001b[32m━━━━━━━━━━━━━━━━━━━━\u001b[0m\u001b[37m\u001b[0m \u001b[1m0s\u001b[0m 5ms/step - binary_accuracy_hinge: 0.9965 - loss: 0.0087  \n",
      "Epoch 123/300\n",
      "\u001b[1m47/47\u001b[0m \u001b[32m━━━━━━━━━━━━━━━━━━━━\u001b[0m\u001b[37m\u001b[0m \u001b[1m0s\u001b[0m 5ms/step - binary_accuracy_hinge: 0.9962 - loss: 0.0098\n",
      "Epoch 124/300\n",
      "\u001b[1m47/47\u001b[0m \u001b[32m━━━━━━━━━━━━━━━━━━━━\u001b[0m\u001b[37m\u001b[0m \u001b[1m0s\u001b[0m 5ms/step - binary_accuracy_hinge: 0.9970 - loss: 0.0101\n",
      "Epoch 125/300\n",
      "\u001b[1m47/47\u001b[0m \u001b[32m━━━━━━━━━━━━━━━━━━━━\u001b[0m\u001b[37m\u001b[0m \u001b[1m0s\u001b[0m 5ms/step - binary_accuracy_hinge: 0.9957 - loss: 0.0119\n",
      "Epoch 126/300\n",
      "\u001b[1m47/47\u001b[0m \u001b[32m━━━━━━━━━━━━━━━━━━━━\u001b[0m\u001b[37m\u001b[0m \u001b[1m0s\u001b[0m 5ms/step - binary_accuracy_hinge: 0.9950 - loss: 0.0117\n"
     ]
    },
    {
     "data": {
      "text/plain": [
       "<keras.src.callbacks.history.History at 0x2b518648070>"
      ]
     },
     "execution_count": 34,
     "metadata": {},
     "output_type": "execute_result"
    }
   ],
   "source": [
    "# Entrenar la red neuronal con las características del autoencoder\n",
    "model.fit(encoded_x_train, y_train_normal_labels, epochs=300, batch_size=128, callbacks=[early_stop])"
   ]
  },
  {
   "cell_type": "markdown",
   "metadata": {},
   "source": [
    "# Paso 6: Hacer Predicciones y Evaluar el Modelo\n",
    "\n",
    "Una vez entrenado el modelo, lo usamos para hacer predicciones sobre el conjunto de prueba. Calculamos las puntuaciones de decisión para cada imagen y las clasificamos como normales o anómalas. Para esto, usaremos un umbral en las puntuaciones de decisión.\n",
    "\n",
    "1. Generamos las puntuaciones de decisión para cada imagen.\n",
    "2. Aplicamos un umbral para decidir si una imagen es normal o anómala.\n",
    "3. Comparamos los resultados con las etiquetas reales para evaluar la precisión del modelo."
   ]
  },
  {
   "cell_type": "code",
   "execution_count": 40,
   "metadata": {},
   "outputs": [
    {
     "name": "stdout",
     "output_type": "stream",
     "text": [
      "\u001b[1m313/313\u001b[0m \u001b[32m━━━━━━━━━━━━━━━━━━━━\u001b[0m\u001b[37m\u001b[0m \u001b[1m1s\u001b[0m 2ms/step\n",
      "\u001b[1m313/313\u001b[0m \u001b[32m━━━━━━━━━━━━━━━━━━━━\u001b[0m\u001b[37m\u001b[0m \u001b[1m1s\u001b[0m 2ms/step\n",
      "Normal Images: 4000\n",
      "Anomalous Images: 6000\n"
     ]
    }
   ],
   "source": [
    "# Hacer predicciones para las imágenes de prueba (todas las imágenes)\n",
    "encoded_x_test = encoder.predict(x_test)\n",
    "y_pred_nn = model.predict(encoded_x_test)\n",
    "decision_scores_test = y_pred_nn.flatten()\n",
    "\n",
    "# Calcular puntuaciones de decisión y clasificar las imágenes\n",
    "\n",
    "r = np.percentile(decision_scores_test, 40)  # Cambia el percentil según lo necesario\n",
    "decision_scores = y_pred_nn.flatten() - r\n",
    "\n",
    "predictions = (decision_scores >= 0).astype(int)  # 1: Anomalo, -1: Normal\n",
    "\n",
    "predictions = np.where(predictions == 1, 1, -1)  # 1: Normal, -1: Anómalo\n",
    "\n",
    "normal_images = np.sum(predictions == -1)  # Normales\n",
    "anomalous_images = np.sum(predictions == 1)  # Anómalas\n",
    "\n",
    "print(f\"Normal Images: {normal_images}\")\n",
    "print(f\"Anomalous Images: {anomalous_images}\")\n"
   ]
  },
  {
   "cell_type": "markdown",
   "metadata": {},
   "source": [
    "# Paso 7: Visualización de resultados"
   ]
  },
  {
   "cell_type": "code",
   "execution_count": 41,
   "metadata": {},
   "outputs": [
    {
     "data": {
      "image/png": "[encoded data removed]",
      "text/plain": [
       "<Figure size 640x480 with 1 Axes>"
      ]
     },
     "metadata": {},
     "output_type": "display_data"
    },
    {
     "name": "stdout",
     "output_type": "stream",
     "text": [
      "Número de ceros mal clasificados como anómalos: 5\n"
     ]
    },
    {
     "data": {
      "image/png": "[encoded data removed]",
      "text/plain": [
       "<Figure size 1000x800 with 5 Axes>"
      ]
     },
     "metadata": {},
     "output_type": "display_data"
    },
    {
     "name": "stdout",
     "output_type": "stream",
     "text": [
      "Número de ceros correctamente clasificados como normales: 975\n"
     ]
    },
    {
     "data": {
      "image/png": "[encoded data removed]",
      "text/plain": [
       "<Figure size 1000x800 with 20 Axes>"
      ]
     },
     "metadata": {},
     "output_type": "display_data"
    }
   ],
   "source": [
    "# Mostrar el histograma de las puntuaciones de decisión\n",
    "plt.hist(decision_scores_test, bins=50, alpha=0.5, label='Test Data')\n",
    "plt.axvline(x=r, color='red', linestyle='--', label='Threshold')\n",
    "plt.legend()\n",
    "plt.show()\n",
    "\n",
    "\n",
    "# Función para visualizar las imágenes clasificadas\n",
    "def show_images(images, predictions, n=40, label='Normal', cols=10):\n",
    "    # Filtrar las imágenes según la clase (Normal o Anomalous)\n",
    "    if label == 'Normal':\n",
    "        filtered_images = images[predictions == 0]\n",
    "    else:\n",
    "        filtered_images = images[predictions == 1]\n",
    "    \n",
    "    rows = (n // cols) + (n % cols != 0)  # Determinar el número de filas necesario\n",
    "\n",
    "    # Mostrar las primeras 'n' imágenes filtradas\n",
    "    plt.figure(figsize=(cols * 2, rows * 2))  # Tamaño ajustado a las filas y columnas\n",
    "    for i in range(min(n, len(filtered_images))):\n",
    "        plt.subplot(rows, cols, i + 1)  # Distribución de las imágenes en filas y columnas\n",
    "        plt.imshow(filtered_images[i].reshape(28, 28), cmap=\"gray\")\n",
    "        plt.title(f'{label} {i+1}')\n",
    "        plt.axis('off')\n",
    "    plt.show()\n",
    "\n",
    "# Mostrar imágenes normales (predicción 0) y anómalas (predicción 1)\n",
    "# show_images(x_test, predictions, n=40, label='Normal', cols=10)   # Primeras 20 imágenes normales\n",
    "# show_images(x_test, predictions, n=40, label='Anomalous', cols=10)\n",
    "\n",
    "def show_images_by_digit(images, predictions, labels, digit, n=20, cols=5, title_label='Prediction'):\n",
    "    \"\"\"\n",
    "    Muestra imágenes de un dígito específico con su predicción.\n",
    "\n",
    "    :param images: array de imágenes a mostrar.\n",
    "    :param predictions: array de predicciones asociadas a las imágenes.\n",
    "    :param labels: etiquetas reales de las imágenes (0 para normal, 1 para anómalo).\n",
    "    :param digit: dígito específico a filtrar para mostrar (por ejemplo, 0).\n",
    "    :param n: número de imágenes a mostrar.\n",
    "    :param cols: número de columnas en el grid.\n",
    "    :param title_label: texto a mostrar en las etiquetas de las predicciones.\n",
    "    \"\"\"\n",
    "    # Filtrar imágenes y predicciones según el dígito real\n",
    "    digit_indices = (labels == digit)\n",
    "    filtered_images = images[digit_indices]\n",
    "    filtered_predictions = predictions[digit_indices]\n",
    "    filtered_labels = labels[digit_indices]\n",
    "    \n",
    "    rows = (n // cols) + (n % cols != 0)  # Determinar número de filas necesario\n",
    "    plt.figure(figsize=(cols * 2, rows * 2))  # Ajustar tamaño del grid\n",
    "\n",
    "    for i in range(min(n, len(filtered_images))):\n",
    "        plt.subplot(rows, cols, i + 1)\n",
    "        plt.imshow(filtered_images[i].reshape(28, 28), cmap=\"gray\")\n",
    "        pred_label = 'Normal' if filtered_predictions[i] == 0 else 'Anomalous'\n",
    "        true_label = 'Normal' if filtered_labels[i] == 0 else 'Anomalous'\n",
    "        plt.title(f'{title_label}: {pred_label}\\nTrue: {true_label}')\n",
    "        plt.axis('off')\n",
    "\n",
    "    plt.tight_layout()\n",
    "    plt.show()\n",
    "\n",
    "\n",
    "\n",
    "# Mostrar imágenes normales y anómalas con predicciones\n",
    "# show_images_by_digit(x_test, predictions, y_test, digit=0, n=20, cols=5, title_label='Prediction')\n",
    "# show_images_by_digit(x_test, predictions, y_test, digit=1, n=20, cols=5, title_label='Prediction')\n",
    "\n",
    "\n",
    "# Mostrar las imágenes mal clasificadas\n",
    "def show_misclassified(images, n=20, cols=5, title=\"Ceros como Anómalos\"):\n",
    "    rows = (n // cols) + (n % cols != 0)\n",
    "    plt.figure(figsize=(cols * 2, rows * 2))\n",
    "    for i in range(min(n, len(images))):\n",
    "        plt.subplot(rows, cols, i + 1)\n",
    "        plt.imshow(images[i].reshape(28, 28), cmap=\"gray\")\n",
    "        plt.title(f'{title} {i+1}')\n",
    "        plt.axis('off')\n",
    "    plt.tight_layout()\n",
    "    plt.show()\n",
    "\n",
    "\n",
    "# Identificar los índices de los ceros predichos como anómalos\n",
    "incorrect_indices = (y_test == 0) & (predictions == 1)\n",
    "\n",
    "# Filtrar las imágenes mal clasificadas\n",
    "misclassified_images = x_test[incorrect_indices]\n",
    "misclassified_predictions = predictions[incorrect_indices]\n",
    "misclassified_labels = y_test[incorrect_indices]\n",
    "\n",
    "# Mostrar el número total de ceros clasificados erróneamente como anómalos\n",
    "print(f\"Número de ceros mal clasificados como anómalos: {len(misclassified_images)}\")\n",
    "\n",
    "# Visualizar las primeras 20 imágenes mal clasificadas\n",
    "show_misclassified(misclassified_images, n=20, cols=5)\n",
    "\n",
    "\n",
    "# Mostrar las imágenes correctamente clasificadas\n",
    "def show_correctly_classified(images, n=20, cols=5, title=\"Ceros como Normales\"):\n",
    "    rows = (n // cols) + (n % cols != 0)\n",
    "    plt.figure(figsize=(cols * 2, rows * 2))\n",
    "    for i in range(min(n, len(images))):\n",
    "        plt.subplot(rows, cols, i + 1)\n",
    "        plt.imshow(images[i].reshape(28, 28), cmap=\"gray\")\n",
    "        plt.title(f'{title} {i+1}')\n",
    "        plt.axis('off')\n",
    "    plt.tight_layout()\n",
    "    plt.show()\n",
    "\n",
    "\n",
    "\n",
    "# Identificar los índices de los ceros correctamente predichos como normales\n",
    "correct_indices = (y_test == 0) & (predictions == -1)\n",
    "\n",
    "# Filtrar las imágenes correctamente clasificadas\n",
    "correctly_classified_images = x_test[correct_indices]\n",
    "\n",
    "# Mostrar el número total de ceros correctamente clasificados como normales\n",
    "print(f\"Número de ceros correctamente clasificados como normales: {len(correctly_classified_images)}\")\n",
    "\n",
    "# Visualizar las primeras 20 imágenes correctamente clasificadas\n",
    "show_correctly_classified(correctly_classified_images, n=20, cols=5)"
   ]
  }
 ],
 "metadata": {
  "kernelspec": {
   "display_name": "venv",
   "language": "python",
   "name": "python3"
  },
  "language_info": {
   "codemirror_mode": {
    "name": "ipython",
    "version": 3
   },
   "file_extension": ".py",
   "mimetype": "text/x-python",
   "name": "python",
   "nbconvert_exporter": "python",
   "pygments_lexer": "ipython3",
   "version": "3.10.2"
  }
 },
 "nbformat": 4,
 "nbformat_minor": 2
}
